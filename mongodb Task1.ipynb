{
 "cells": [
  {
   "cell_type": "markdown",
   "id": "549c0ffd-41e4-4cc1-8403-bb724822a418",
   "metadata": {},
   "source": [
    "### Q1. What is MongoDB? Explain non-relational databases in short. In which scenarios it is preferred to use MongoDB over SQL databases?"
   ]
  },
  {
   "cell_type": "markdown",
   "id": "6c05c47a-71e8-4e64-8532-77f08756efc2",
   "metadata": {},
   "source": [
    "Ans. MongoDB is a NoSQL, document-oriented database that provides high performance, high availability, and easy scalability. It stores data in flexible, JSON-like documents called BSON, allowing for a dynamic and schema-less data model. MongoDB is designed to handle large volumes of data and is well-suited for applications with rapidly changing data and evolving schemas.\n",
    "\n",
    "Non-relational databases, also known as NoSQL databases, are a type of database that does not use the traditional relational database management system (RDBMS) structure. They provide a flexible schema and are designed to handle large volumes of unstructured or semi-structured data. NoSQL databases are suitable for scenarios where the data requirements are not well-defined and may change over time.\n",
    "\n",
    "MongoDB is preferred when dealing with dynamic, rapidly changing data, and when scalability and performance in a distributed environment are critical considerations. SQL databases are still appropriate for applications with well-defined, static schemas and complex relationships between entities. The choice between MongoDB and SQL databases depends on the specific requirements and characteristics of the project at hand."
   ]
  },
  {
   "cell_type": "markdown",
   "id": "49adf9fb-71bb-437d-8999-cf3247a5949c",
   "metadata": {},
   "source": [
    "### Q2. State and Explain the features of MongoDB."
   ]
  },
  {
   "cell_type": "markdown",
   "id": "08d060a1-b226-4be2-ae47-2cdedeb256a4",
   "metadata": {},
   "source": [
    "Ans. MongoDB is a feature-rich, NoSQL, document-oriented database that offers a variety of capabilities to meet the needs of modern application development. Here are some key features of MongoDB:\n",
    "\n",
    "Document-Oriented:\n",
    "\n",
    "MongoDB stores data in flexible, JSON-like BSON (Binary JSON) documents.\n",
    "Each document can have a different structure, allowing for a dynamic schema.\n",
    "Schema Flexibility:\n",
    "\n",
    "MongoDB's schema is dynamic and schema-less, allowing for easy modifications without requiring a predefined schema.\n",
    "New fields can be added to documents without affecting existing data.\n",
    "Query Language:\n",
    "\n",
    "MongoDB supports a powerful and expressive query language, including support for complex queries, indexing, and aggregation pipelines.\n",
    "Indexing:\n",
    "\n",
    "Provides indexing support for efficient query execution and improved performance.\n",
    "Supports various types of indexes, including single field, compound, and geospatial indexes.\n",
    "Aggregation Framework:\n",
    "\n",
    "MongoDB's aggregation framework enables powerful data transformation and analysis, supporting operations like filtering, grouping, sorting, and projecting.\n",
    "Horizontal Scalability:\n",
    "\n",
    "MongoDB can scale horizontally across multiple servers and supports sharding to distribute data and traffic across a cluster.\n",
    "High Availability:\n",
    "\n",
    "Offers features like replica sets for automatic failover and data redundancy, ensuring high availability and data durability.\n",
    "Auto-Sharding:\n",
    "\n",
    "Automatic sharding allows MongoDB to scale horizontally by distributing data across multiple shards, enabling efficient handling of large datasets.\n",
    "Geospatial Indexing:\n",
    "\n",
    "MongoDB supports geospatial indexes and queries, making it suitable for location-based applications.\n",
    "GridFS:\n",
    "\n",
    "GridFS is a specification for storing and retrieving large files, such as images and videos, in MongoDB.\n",
    "Security Features:\n",
    "\n",
    "Provides authentication and authorization mechanisms, including role-based access control.\n",
    "Supports encrypted connections (TLS/SSL) and field-level encryption for sensitive data.\n",
    "Flexible Deployment:\n",
    "\n",
    "Can be deployed on-premises or in the cloud, supporting various platforms and environments.\n",
    "Community and Ecosystem:\n",
    "\n",
    "Active community support and a wide range of third-party libraries and tools.\n",
    "Comprehensive documentation and resources for developers.\n",
    "Change Streams:\n",
    "\n",
    "Change streams allow applications to subscribe to real-time changes in the database, enabling reactive programming patterns."
   ]
  },
  {
   "cell_type": "markdown",
   "id": "b15bb738-66b7-4f60-85e4-e93bff6877a3",
   "metadata": {},
   "source": [
    "### Q3. Write a code to connect MongoDB to Python. Also, create a database and a collection in MongoDB."
   ]
  },
  {
   "cell_type": "code",
   "execution_count": 4,
   "id": "bf723c80-2bc1-421d-bce1-5d268279a618",
   "metadata": {},
   "outputs": [
    {
     "name": "stdout",
     "output_type": "stream",
     "text": [
      "Collecting pymongo\n",
      "  Downloading pymongo-4.6.0-cp310-cp310-manylinux_2_17_x86_64.manylinux2014_x86_64.whl (677 kB)\n",
      "\u001b[2K     \u001b[90m━━━━━━━━━━━━━━━━━━━━━━━━━━━━━━━━━━━━━━\u001b[0m \u001b[32m677.1/677.1 kB\u001b[0m \u001b[31m14.2 MB/s\u001b[0m eta \u001b[36m0:00:00\u001b[0ma \u001b[36m0:00:01\u001b[0m\n",
      "\u001b[?25hCollecting dnspython<3.0.0,>=1.16.0\n",
      "  Downloading dnspython-2.4.2-py3-none-any.whl (300 kB)\n",
      "\u001b[2K     \u001b[90m━━━━━━━━━━━━━━━━━━━━━━━━━━━━━━━━━━━━━━\u001b[0m \u001b[32m300.4/300.4 kB\u001b[0m \u001b[31m34.2 MB/s\u001b[0m eta \u001b[36m0:00:00\u001b[0m\n",
      "\u001b[?25hInstalling collected packages: dnspython, pymongo\n",
      "Successfully installed dnspython-2.4.2 pymongo-4.6.0\n",
      "Note: you may need to restart the kernel to use updated packages.\n"
     ]
    }
   ],
   "source": [
    "pip install pymongo"
   ]
  },
  {
   "cell_type": "code",
   "execution_count": 5,
   "id": "ad5a9ed1-59eb-48c2-b315-eeeedd9907cd",
   "metadata": {},
   "outputs": [
    {
     "name": "stdout",
     "output_type": "stream",
     "text": [
      "Pinged your deployment. You successfully connected to MongoDB!\n"
     ]
    }
   ],
   "source": [
    "from pymongo.mongo_client import MongoClient\n",
    "\n",
    "uri = \"mongodb+srv://Abhi:<PASSWORD>@abhishek.zvu4hlb.mongodb.net/?retryWrites=true&w=majority\"\n",
    "\n",
    "client = MongoClient(uri)\n",
    "\n",
    "try:\n",
    "    client.admin.command('ping')\n",
    "    print(\"Pinged your deployment. You successfully connected to MongoDB!\")\n",
    "except Exception as e:\n",
    "    print(e)"
   ]
  },
  {
   "cell_type": "code",
   "execution_count": 10,
   "id": "59c5b528-7b7f-4ac0-9c7b-7e3ffb70df1e",
   "metadata": {},
   "outputs": [],
   "source": [
    "database = client[\"Task\"]"
   ]
  },
  {
   "cell_type": "code",
   "execution_count": 11,
   "id": "af8fc3b5-af13-4695-9a16-7a83f8e8e091",
   "metadata": {},
   "outputs": [],
   "source": [
    "coll_create = database[\"record\"]"
   ]
  },
  {
   "cell_type": "code",
   "execution_count": 13,
   "id": "2667bb94-a68c-4f5a-85b0-36d8bb96c24d",
   "metadata": {},
   "outputs": [],
   "source": [
    "task = {\"step1\" : \"python\",\n",
    "       \"step2\" : \"SQL\",\n",
    "       \"step3\" : \"MongoDB\",\n",
    "       \"step4\" : \"WEB API\",\n",
    "       \"step5\" : \"Data Structure and Algorithms\"}"
   ]
  },
  {
   "cell_type": "code",
   "execution_count": 14,
   "id": "69b80c1b-5374-44f5-96d1-f57e15bfa1b7",
   "metadata": {},
   "outputs": [
    {
     "data": {
      "text/plain": [
       "InsertOneResult(ObjectId('655e3d59b72b11ed81ccf986'), acknowledged=True)"
      ]
     },
     "execution_count": 14,
     "metadata": {},
     "output_type": "execute_result"
    }
   ],
   "source": [
    "coll_create.insert_one(task)"
   ]
  },
  {
   "cell_type": "markdown",
   "id": "e9de5ec4-2f53-4d2f-bd29-528518ca79bd",
   "metadata": {},
   "source": [
    "### Q4. Using the database and the collection created in question number 3, write a code to insert one record, and insert many records. Use the find() and find_one() methods to print the inserted record."
   ]
  },
  {
   "cell_type": "code",
   "execution_count": 15,
   "id": "434b31b7-6b9c-4f03-a0bf-80d07b99d94c",
   "metadata": {},
   "outputs": [],
   "source": [
    "task = {\"location1\" : \"Ambala\",\n",
    "        \"location2\" : \"Pune\",\n",
    "        \"location3\" :\"Noida\"}"
   ]
  },
  {
   "cell_type": "code",
   "execution_count": 16,
   "id": "f7306570-6fc9-479a-86e4-78c20d7fbf8b",
   "metadata": {},
   "outputs": [
    {
     "data": {
      "text/plain": [
       "InsertOneResult(ObjectId('655e3f56b72b11ed81ccf987'), acknowledged=True)"
      ]
     },
     "execution_count": 16,
     "metadata": {},
     "output_type": "execute_result"
    }
   ],
   "source": [
    "coll_create.insert_one(task)"
   ]
  },
  {
   "cell_type": "code",
   "execution_count": 17,
   "id": "12cda2b7-d4d6-4918-ac00-a21cfd11f0b9",
   "metadata": {},
   "outputs": [],
   "source": [
    "task = [{\"PL1\" : \"Delhi\"},\n",
    "       {\"PL2\" : \"Gawalior\"},\n",
    "       {\"PL3\" : \"Pathankot\"},\n",
    "       {\"PL4\" : \"Ambala\"}]"
   ]
  },
  {
   "cell_type": "code",
   "execution_count": 18,
   "id": "baf3e8de-6b1b-45f3-8885-d011b5e0870e",
   "metadata": {},
   "outputs": [
    {
     "data": {
      "text/plain": [
       "InsertManyResult([ObjectId('655e4113b72b11ed81ccf988'), ObjectId('655e4113b72b11ed81ccf989'), ObjectId('655e4113b72b11ed81ccf98a'), ObjectId('655e4113b72b11ed81ccf98b')], acknowledged=True)"
      ]
     },
     "execution_count": 18,
     "metadata": {},
     "output_type": "execute_result"
    }
   ],
   "source": [
    "coll_create.insert_many(task)"
   ]
  },
  {
   "cell_type": "code",
   "execution_count": 25,
   "id": "7215b187-638f-4bb5-8614-aac8462c724f",
   "metadata": {},
   "outputs": [
    {
     "name": "stdout",
     "output_type": "stream",
     "text": [
      "{'_id': ObjectId('655e3f56b72b11ed81ccf987'), 'location1': 'Ambala', 'location2': 'Pune', 'location3': 'Noida'}\n"
     ]
    }
   ],
   "source": [
    "for i in coll_create.find({\"location1\" : \"Ambala\"}):\n",
    "    print(i)"
   ]
  },
  {
   "cell_type": "code",
   "execution_count": 28,
   "id": "884f1665-2535-4356-9d2c-fb8845aaa47b",
   "metadata": {},
   "outputs": [
    {
     "name": "stdout",
     "output_type": "stream",
     "text": [
      "_id\n",
      "PL4\n"
     ]
    }
   ],
   "source": [
    "for i in coll_create.find_one({\"PL4\" : \"Ambala\"}):\n",
    "    print(i)"
   ]
  },
  {
   "cell_type": "markdown",
   "id": "d402a1ea-4437-439e-bc12-38f1af32e160",
   "metadata": {},
   "source": [
    "### Q5. Explain how you can use the find() method to query the MongoDB database. Write a simple code to demonstrate this."
   ]
  },
  {
   "cell_type": "markdown",
   "id": "512be871-b23c-48be-a844-b40e126297c9",
   "metadata": {},
   "source": [
    "Ans. In MongoDB, the find() method is used to query documents in a collection. It allows you to specify criteria to filter the documents you want to retrieve. "
   ]
  },
  {
   "cell_type": "code",
   "execution_count": 32,
   "id": "4208e2ea-4c93-4e80-ab78-6396a0a8da44",
   "metadata": {},
   "outputs": [],
   "source": [
    "for i in coll_create.find({\"location3\" : \"Pathankt\"}):\n",
    "    print(i)"
   ]
  },
  {
   "cell_type": "markdown",
   "id": "99c916d4-397a-4d3d-a620-c6797af5a103",
   "metadata": {},
   "source": [
    "### Q6. Explain the sort() method. Give an example to demonstrate sorting in MongoDB."
   ]
  },
  {
   "cell_type": "markdown",
   "id": "eb844707-ee90-4462-9262-5dbac6959136",
   "metadata": {},
   "source": [
    "Ans. In MongoDB, the sort() method is used to specify the order in which the returned documents should be sorted. It takes a document that defines the sort order, with the keys representing the fields to sort on and the values indicating the sort order (ascending or descending)."
   ]
  },
  {
   "cell_type": "code",
   "execution_count": 44,
   "id": "a7eea43d-4ed8-4528-9399-36afab727922",
   "metadata": {},
   "outputs": [],
   "source": [
    "coll_create = database[\"Score\"]"
   ]
  },
  {
   "cell_type": "code",
   "execution_count": 45,
   "id": "ce813069-fbe3-489e-b5e7-aa53470529a9",
   "metadata": {},
   "outputs": [],
   "source": [
    "score = [{ \"_id\": 1, \"name\": \"Alice\", \"score\": 85 },\n",
    "       { \"_id\": 2, \"name\": \"Bob\", \"score\": 92 },\n",
    "       { \"_id\": 3, \"name\": \"Charlie\", \"score\": 78 },\n",
    "       { \"_id\": 4, \"name\": \"David\", \"score\": 95 }]"
   ]
  },
  {
   "cell_type": "code",
   "execution_count": 46,
   "id": "7ea0efee-b131-4b99-bb29-96da41033031",
   "metadata": {},
   "outputs": [
    {
     "data": {
      "text/plain": [
       "InsertManyResult([1, 2, 3, 4], acknowledged=True)"
      ]
     },
     "execution_count": 46,
     "metadata": {},
     "output_type": "execute_result"
    }
   ],
   "source": [
    "coll_create.insert_many(score)"
   ]
  },
  {
   "cell_type": "code",
   "execution_count": 52,
   "id": "bdf79cb7-3485-4fb1-8a44-840504ac4019",
   "metadata": {},
   "outputs": [
    {
     "name": "stdout",
     "output_type": "stream",
     "text": [
      "{'_id': 4, 'name': 'David', 'score': 95}\n",
      "{'_id': 2, 'name': 'Bob', 'score': 92}\n",
      "{'_id': 1, 'name': 'Alice', 'score': 85}\n",
      "{'_id': 3, 'name': 'Charlie', 'score': 78}\n"
     ]
    }
   ],
   "source": [
    "for i in coll_create.find({}).sort(\"score\",-1):\n",
    "    print(i)"
   ]
  },
  {
   "cell_type": "markdown",
   "id": "56e79193-c8d1-4fbf-a3ca-29baeb39572b",
   "metadata": {},
   "source": [
    "### Q7. Explain why delete_one(), delete_many(), and drop() is used."
   ]
  },
  {
   "cell_type": "markdown",
   "id": "36e48dfb-6de1-4e36-92e4-ccd6a0353651",
   "metadata": {},
   "source": [
    "Ans. delete_one() : Deletes a single document that matches the specified filter criteria.\n",
    "\n",
    "delete_many() : Deletes all documents that match the specified filter criteria.\n",
    "\n",
    "drop() : Drops or deletes the entire collection."
   ]
  },
  {
   "cell_type": "code",
   "execution_count": null,
   "id": "e279c715-7979-4e0a-8ae4-a78b428296b9",
   "metadata": {},
   "outputs": [],
   "source": []
  }
 ],
 "metadata": {
  "kernelspec": {
   "display_name": "Python 3 (ipykernel)",
   "language": "python",
   "name": "python3"
  },
  "language_info": {
   "codemirror_mode": {
    "name": "ipython",
    "version": 3
   },
   "file_extension": ".py",
   "mimetype": "text/x-python",
   "name": "python",
   "nbconvert_exporter": "python",
   "pygments_lexer": "ipython3",
   "version": "3.10.8"
  }
 },
 "nbformat": 4,
 "nbformat_minor": 5
}
